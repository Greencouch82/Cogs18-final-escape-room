{
 "cells": [
  {
   "cell_type": "markdown",
   "metadata": {},
   "source": [
    "# Project Description"
   ]
  },
  {
   "cell_type": "markdown",
   "metadata": {},
   "source": [
    "This project is implementing a virtual escape room game! The gameplay is as follows:\n",
    "- You're a spy who has broken into enemy headquarters and has to collect information.\n",
    "- The game...\n",
    "    - asks for your name\n",
    "    - starts a timer\n",
    "    - establishes a list of locations in the room to examine (each having its own task) - there are currently 3 locations\n",
    "    - loops through all the tasks\n",
    "        - prints the remaining tasks and lets the user choose which task to look at first\n",
    "        - executes the task\n",
    "            - password solver: asks user to decrypt a password\n",
    "            - trivia: has user solve a random trivia question from a given dictionary\n",
    "            - basic math: lets user solve a short math question\n",
    "    - congratulates the user once all tasks are done and tells them how long they took."
   ]
  },
  {
   "cell_type": "markdown",
   "metadata": {},
   "source": [
    "# Project Code\n",
    "\n",
    "See my_script.py and functions.py."
   ]
  },
  {
   "cell_type": "markdown",
   "metadata": {},
   "source": [
    "# Execute my project here!"
   ]
  },
  {
   "cell_type": "code",
   "execution_count": 1,
   "metadata": {
    "scrolled": true
   },
   "outputs": [
    {
     "name": "stdout",
     "output_type": "stream",
     "text": [
      "What is your name? L\n",
      "Welcome L!\n",
      "You are a spy, trapped in an enemy compound. Time to steal info and escape! Good luck!\n",
      "\n",
      "Spelling and capitalization matter, so be careful.\n",
      "\n",
      "\n",
      "You look around the room. You see a computer (A) a file folder (B) a calculator (C). Which one do you want to examine?\n",
      "input: A\n",
      "\n",
      "\n",
      "You have discovered a useful password! Unfortunately, it is encrypted, meaning you have to decrypt it before taking it back to your HQ! Luckily, you know that this is a simple \"Caesar + 2\" cipher, meaning the letter \"A\" was encrypted as \"C\" and \"B\" was encrypted as \"D\" and so on. Here is the keyword you found: EQFKPI\n",
      "input: CODING\n",
      "Good job!\n",
      "\n",
      "You look around the room. You see a file folder (B) a calculator (C). Which one do you want to examine?\n",
      "input: B\n",
      "\n",
      "You found an interesting file folder about Python. Luckily, you still remember a bit from your Cogs 18 class all those years ago.\n",
      "\n",
      "What do you call a collection in Python that uses curly brackets, is mutable, and stores key-value pairs?\n",
      "input: dictionary\n",
      "You did it!\n",
      "\n",
      "You look around the room. You see a calculator (C). Which one do you want to examine?\n",
      "input: C\n",
      "\n",
      "There is a calculator on the desk. Wait! It is not a calculator! This is a secret keypad for a safe, and it requires you to do math in order to open the safe.\n",
      "\n",
      "The keypad has 3 keys - 1, 2, and 3. How many different 2-digit numbers are possible?\n",
      "input: 9\n",
      "Nice one!\n",
      "\n",
      "Congratulations! You have successfully exfiltrated enemy headquarters and stolen valuable information for your own organization.\n",
      "It took you 0 hours, 0 minutes, 11 seconds to escape.\n",
      "\n",
      "Good luck on future endeavors, L!\n",
      "GAME OVER\n"
     ]
    }
   ],
   "source": [
    "%run my_script.py"
   ]
  },
  {
   "cell_type": "markdown",
   "metadata": {},
   "source": [
    "## Testing my functions"
   ]
  },
  {
   "cell_type": "markdown",
   "metadata": {},
   "source": [
    "### Sample gameplay\n",
    "\n",
    "What is your name? Laura\n",
    "Welcome Laura!\n",
    "You are a spy, trapped in an enemy compound. Time to steal info and escape! Good luck!\n",
    "\n",
    "Spelling and capitalization matter, so be careful.\n",
    "\n",
    "\n",
    "You look around the room. You see a computer (A) a file folder (B) a calculator (C). Which one do you want to examine?\n",
    "input: hi\n",
    "Sorry this is not the right answer. Try again.\n",
    "Valid answer chocies are:  ['A', 'B', 'C']\n",
    "input: B\n",
    "\n",
    "You found an interesting file folder about Python. Luckily, you still remember a bit from your Cogs 18 class all those years ago.\n",
    "\n",
    "What do you call a collection in Python that uses parentheses, is immutable, and can be of mixed type?\n",
    "input: list\n",
    "Sorry this is not the right answer. Try again.\n",
    "input: tuple\n",
    "You did it!\n",
    "\n",
    "You look around the room. You see a computer (A) a calculator (C). Which one do you want to examine?\n",
    "input: A\n",
    "\n",
    "\n",
    "You have discovered a useful password! Unfortunately, it is encrypted, meaning you have to decrypt it before taking it back to your HQ! Luckily, you know that this is a simple \"Caesar + 2\" cipher, meaning the letter \"A\" was encrypted as \"C\" and \"B\" was encrypted as \"D\" and so on. Here is the keyword you found: EQFKPI\n",
    "input: PYTHON\n",
    "Sorry this is not the right answer. Try again.\n",
    "input: CODING\n",
    "Good job!\n",
    "\n",
    "You look around the room. You see a calculator (C). Which one do you want to examine?\n",
    "input: C\n",
    "\n",
    "There is a calculator on the desk. Wait! It is not a calculator! This is a secret keypad for a safe, and it requires you to do math in order to open the safe.\n",
    "\n",
    "The keypad has 3 keys - 1, 2, and 3. How many different 2-digit numbers are possible?\n",
    "input: 6\n",
    "Sorry this is not the right answer. Try again.\n",
    "input: 9\n",
    "Nice one!\n",
    "\n",
    "Congratulations! You have successfully exfiltrated enemy headquarters and stolen valuable information for your own organization.\n",
    "It took you 0 hours, 0 minutes, 24 seconds to escape.\n",
    "\n",
    "Good luck on future endeavors, Laura!\n",
    "GAME OVER"
   ]
  },
  {
   "cell_type": "markdown",
   "metadata": {},
   "source": [
    "#### Automated testing"
   ]
  },
  {
   "cell_type": "code",
   "execution_count": 2,
   "metadata": {
    "scrolled": true
   },
   "outputs": [
    {
     "name": "stdout",
     "output_type": "stream",
     "text": [
      "testing time convert function\n",
      "testing decrypt 2\n",
      "\n",
      "Testing ask_a_question\n",
      "testing password solver function\n",
      "testing trivia function\n",
      "testing basic math function\n"
     ]
    }
   ],
   "source": [
    "%run test_functions.py"
   ]
  },
  {
   "cell_type": "markdown",
   "metadata": {},
   "source": [
    "## Additional Comments\n",
    "\n",
    "Approach\n",
    "- relevant modules: random, time, mock, builtins, pytest\n",
    "- functions defined in functions.py file: time_convert, ask_a_question, decrypt_caesar_2, password_solver, trivia, basic_math\n",
    "- main program defined in my_script.py file: imports functions, asks for player name, starts a timer, establishes list of locations, loops through tasks and prints remaining tasks: password solver, trivia, basic math\n",
    "- test functions defined in test_functions.py\n",
    "\n",
    "Project Code\n",
    "- code constructs included: loops, conditionals, functions, variables, collections, print(), user input()\n",
    "- special focus was put on validating user input to only allow valid input, and making my code flexible without unnecessary repetition\n",
    "\n",
    "Code Documentation\n",
    "- docstrings & comments\n",
    "\n",
    "Code Tests\n",
    "- Smoke Tests\n",
    "    - manually tested that the program starts without errors (tested both correct and purposely incorrect answers to check that I get the wanted response without errors)\n",
    "- Unit Tests\n",
    "    - tested the different functions (see test_functions.py)"
   ]
  },
  {
   "cell_type": "markdown",
   "metadata": {},
   "source": [
    "### Extra Credit (*optional*)\n",
    "\n",
    "- I do not have Python experience outside of this class. \n",
    "- I challenged myself to use a variety of things we learned in class (from collections to functions to loops to methods). \n",
    "- I also tried to go above and beyond the requirements by refactoring and ensuring that the code is flexible (making sure I use functions/procedures instead of re-typing code) so that this game could easily be extended or reformatted into a variety of question and answer games. \n",
    "- Some concepts that I used that were not directly discussed in class include: a stopwatch, importing new modules, and making the interactive features \"foolproof\", i.e. error-checking and asking again until the answer is correct. \n",
    "- Particularly the testing for functions that use input() were tricky and I needed to do lots of outside research."
   ]
  }
 ],
 "metadata": {
  "kernelspec": {
   "display_name": "Python 3 (ipykernel)",
   "language": "python",
   "name": "python3"
  },
  "language_info": {
   "codemirror_mode": {
    "name": "ipython",
    "version": 3
   },
   "file_extension": ".py",
   "mimetype": "text/x-python",
   "name": "python",
   "nbconvert_exporter": "python",
   "pygments_lexer": "ipython3",
   "version": "3.9.5"
  }
 },
 "nbformat": 4,
 "nbformat_minor": 2
}
